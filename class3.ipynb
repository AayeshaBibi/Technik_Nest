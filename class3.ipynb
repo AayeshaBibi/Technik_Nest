{
 "cells": [
  {
   "cell_type": "markdown",
   "id": "49019755-8f90-4a49-9e62-d6f719f8e36c",
   "metadata": {},
   "source": [
    "# Task 1"
   ]
  },
  {
   "cell_type": "code",
   "execution_count": 5,
   "id": "4e6a0730-3109-4e35-865a-afde26253be8",
   "metadata": {},
   "outputs": [
    {
     "name": "stdin",
     "output_type": "stream",
     "text": [
      "enter any number :   3\n",
      "enter any number :   0\n",
      "enter any operator from (+,-,*,/)  :   /\n"
     ]
    },
    {
     "name": "stdout",
     "output_type": "stream",
     "text": [
      "\n",
      "zero division error!\n"
     ]
    }
   ],
   "source": [
    "num1 = float(input(\"enter any number :  \"))\n",
    "num2 = float(input(\"enter any number :  \"))\n",
    "op = input(\"enter any operator from (+,-,*,/)  :  \")\n",
    "if (op==\"+\"):\n",
    "    print(\"\\naddition of two is :  \", num1+num2)\n",
    "elif (op==\"-\"):\n",
    "    print(\"\\nsubstraction of two is :  \", num1-num2)\n",
    "elif (op==\"*\"):\n",
    "    print(\"\\nmultiplication of two is :  \", num1*num2)\n",
    "elif (op==\"/\"):\n",
    "    if (num2 == 0):\n",
    "        print(\"\\nzero division error!\")\n",
    "    else:\n",
    "        print(\"\\ndivision of two is :  \", num1/num2)\n",
    "else:\n",
    "    print(\"\\nyou entered something wrong!\")"
   ]
  },
  {
   "cell_type": "markdown",
   "id": "b2cc78a2-9457-49bb-85c6-799cff73a385",
   "metadata": {},
   "source": [
    "# Task 2"
   ]
  },
  {
   "cell_type": "code",
   "execution_count": 12,
   "id": "a98fcdf6-3f47-4741-a6ae-e8a566c26b65",
   "metadata": {},
   "outputs": [
    {
     "name": "stdin",
     "output_type": "stream",
     "text": [
      "enter the marks of 1 subject out of 100 :   33\n",
      "enter the marks of 2 subject out of 100 :   66\n",
      "enter the marks of 3 subject out of 100 :   99\n"
     ]
    },
    {
     "name": "stdout",
     "output_type": "stream",
     "text": [
      "Your Total marks you have obtained is :  198.0  Percentage :  66.0\n",
      "\n",
      "\tYou get C grade\n"
     ]
    }
   ],
   "source": [
    "sub1 = float(input(\"enter the marks of 1 subject out of 100 :  \"))\n",
    "sub2 = float(input(\"enter the marks of 2 subject out of 100 :  \"))\n",
    "sub3 = float(input(\"enter the marks of 3 subject out of 100 :  \"))\n",
    "total_obtained = sub1+sub2+sub3\n",
    "percentage = (total_obtained / 300) * 100\n",
    "print(\"Your Total marks you have obtained is : \", total_obtained, \" Percentage : \",round(percentage,1))\n",
    "if (percentage >= 85):\n",
    "    print(\"\\n\\tYou get A grade\")\n",
    "elif (percentage >= 70):\n",
    "    print(\"\\n\\tYou get B grade\")\n",
    "elif (percentage >= 50):\n",
    "    print(\"\\n\\tYou get C grade\")\n",
    "else:\n",
    "    print(\"\\n\\tYou are FAILED!\")"
   ]
  },
  {
   "cell_type": "markdown",
   "id": "514485ad-f8ab-4316-b3aa-0335c9c1befd",
   "metadata": {},
   "source": [
    "# Task 3"
   ]
  },
  {
   "cell_type": "code",
   "execution_count": 15,
   "id": "3adbe523-1c92-4ade-a56a-d485837c7e84",
   "metadata": {},
   "outputs": [
    {
     "name": "stdin",
     "output_type": "stream",
     "text": [
      "enter your total monthly income     :   30000\n",
      "enter your total monthly expenses :   20000\n"
     ]
    },
    {
     "name": "stdout",
     "output_type": "stream",
     "text": [
      "Your Saving Are :   10000.0\n",
      "Saving Well!\n"
     ]
    }
   ],
   "source": [
    "monthly_income = float(input(\"enter your total monthly income     :  \"))\n",
    "monthly_expenses = float(input(\"enter your total monthly expenses :  \"))\n",
    "savings = monthly_income - monthly_expenses\n",
    "print(\"Your Saving Are :  \",savings)\n",
    "if (savings >= 10000):\n",
    "    print(\"Saving Well!\")\n",
    "elif (savings <= 9999 and savings >= 5000):\n",
    "    print(\"Saving Average!\")\n",
    "elif (saving < 5000):\n",
    "    print(\"Try To Save!\")\n",
    "else:\n",
    "    print(\"enetred something wrong!\")"
   ]
  },
  {
   "cell_type": "markdown",
   "id": "04fb67f9-988e-438b-a225-2a645a7e7f7c",
   "metadata": {},
   "source": [
    "# Task 4"
   ]
  },
  {
   "cell_type": "code",
   "execution_count": 19,
   "id": "b2b1a282-ee4f-4b46-a22e-ea9a12dc57a1",
   "metadata": {},
   "outputs": [
    {
     "name": "stdin",
     "output_type": "stream",
     "text": [
      "enter your name =   admin\n",
      "enter your password =   1234\n"
     ]
    },
    {
     "name": "stdout",
     "output_type": "stream",
     "text": [
      "Access Granted!\n"
     ]
    }
   ],
   "source": [
    "name = input(\"enter your name =  \")\n",
    "password = input(\"enter your password =  \")\n",
    "if (name == \"admin\" and password == \"1234\"):\n",
    "    print(\"Access Granted!\")\n",
    "else:\n",
    "    print(\"Access Denied!\")"
   ]
  },
  {
   "cell_type": "markdown",
   "id": "ab3b18fc-1368-45be-8638-be44f38ba5d3",
   "metadata": {},
   "source": [
    "# Task 5"
   ]
  },
  {
   "cell_type": "code",
   "execution_count": 24,
   "id": "1a3b7ea1-782d-480b-9f0b-974b16d86a01",
   "metadata": {},
   "outputs": [
    {
     "name": "stdin",
     "output_type": "stream",
     "text": [
      "enter your attendance   :   77\n",
      "enter your final_marks :   56\n"
     ]
    },
    {
     "name": "stdout",
     "output_type": "stream",
     "text": [
      "Promoted!\n"
     ]
    }
   ],
   "source": [
    "attendance = input(\"enter your attendance   :  \")\n",
    "final_marks = input(\"enter your final_marks :  \")\n",
    "if (attendance >= \"70\" and final_marks >= \"50\"):\n",
    "    print(\"Promoted!\")\n",
    "else:\n",
    "    print(\"Not Promoted\")"
   ]
  },
  {
   "cell_type": "markdown",
   "id": "d517097f-1ba1-494e-a402-613cb8828a26",
   "metadata": {},
   "source": [
    "# Task 6"
   ]
  },
  {
   "cell_type": "code",
   "execution_count": 25,
   "id": "5051518e-4d6d-48f8-811f-70cf077cd340",
   "metadata": {},
   "outputs": [
    {
     "name": "stdout",
     "output_type": "stream",
     "text": [
      "    ***********        Billing System           **********\n"
     ]
    },
    {
     "name": "stdin",
     "output_type": "stream",
     "text": [
      "enter the no of products you buy  :   2\n",
      "enter the total price you spent here :   1200\n"
     ]
    },
    {
     "name": "stdout",
     "output_type": "stream",
     "text": [
      "Congrats you earned a 10% discount!\n",
      "Total Price To Pay :   1080.0\n"
     ]
    }
   ],
   "source": [
    "print(\"    ***********        Billing System           **********\")\n",
    "no_of_products = int(input(\"enter the no of products you buy  :  \"))\n",
    "total_price = int(input(\"enter the total price you spent here :  \"))\n",
    "if (total_price > 1000 and no_of_products > 3):\n",
    "    print(\"Congrats you earned a 15% discount!\")\n",
    "    price_to_pay = total_price * 0.85\n",
    "elif (total_price > 500):\n",
    "    print(\"Congrats you earned a 10% discount!\")\n",
    "    price_to_pay = total_price * 0.90\n",
    "else:\n",
    "    print(\"No Discount\")\n",
    "    price_to_pay = total_price\n",
    "print(\"Total Price To Pay :  \", price_to_pay)"
   ]
  }
 ],
 "metadata": {
  "kernelspec": {
   "display_name": "Python 3 (ipykernel)",
   "language": "python",
   "name": "python3"
  },
  "language_info": {
   "codemirror_mode": {
    "name": "ipython",
    "version": 3
   },
   "file_extension": ".py",
   "mimetype": "text/x-python",
   "name": "python",
   "nbconvert_exporter": "python",
   "pygments_lexer": "ipython3",
   "version": "3.12.4"
  }
 },
 "nbformat": 4,
 "nbformat_minor": 5
}
