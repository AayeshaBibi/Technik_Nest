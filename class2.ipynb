{
 "cells": [
  {
   "cell_type": "markdown",
   "id": "e82b5bef-515f-49d5-acf5-0b6daa5086a4",
   "metadata": {},
   "source": [
    "# Task 1"
   ]
  },
  {
   "cell_type": "code",
   "execution_count": 2,
   "id": "4f968fe8-9fc4-4848-bef3-f32d204f5d91",
   "metadata": {},
   "outputs": [
    {
     "name": "stdout",
     "output_type": "stream",
     "text": [
      "     ******       Mini Profile:          *******    \n",
      "My name is Aisha Khan. I am 20 years old and live in Pakistan.\n",
      "My hobby is None. The current year is 2025, and I expect to graduate in 2027.\n",
      "There are 2 years left until I graduate.\n"
     ]
    }
   ],
   "source": [
    "full_name = \"Aisha Khan\"\n",
    "age = 20\n",
    "current_year = 2025\n",
    "country = \"Pakistan\"\n",
    "hobby = \"None\"\n",
    "expected_graduation_year = current_year + 2\n",
    "years_left = expected_graduation_year - current_year\n",
    "\n",
    "print(\"     ******       Mini Profile:          *******    \")\n",
    "print(f\"My name is {full_name}. I am {age} years old and live in {country}.\")\n",
    "print(f\"My hobby is {hobby}. The current year is {current_year}, and I expect to graduate in {expected_graduation_year}.\")\n",
    "print(f\"There are {years_left} years left until I graduate.\")"
   ]
  },
  {
   "cell_type": "markdown",
   "id": "b206bde3-a1db-4597-aa96-08a30c1469a3",
   "metadata": {},
   "source": [
    "# Task 2"
   ]
  },
  {
   "cell_type": "code",
   "execution_count": 4,
   "id": "7a946200-7db5-415c-a545-95cfbfebba7c",
   "metadata": {},
   "outputs": [
    {
     "name": "stdout",
     "output_type": "stream",
     "text": [
      "            ******     User Profiles:          ******\n",
      "Name            Profession           Country         Employed  \n",
      "------------------------------------------------------------\n",
      "Ali Raza        Software Engineer    Pakistan        True      \n",
      "Sara Malik      Data Analyst         Dubai           False     \n",
      "Salma Khan      Teacher              Germany         True      \n"
     ]
    }
   ],
   "source": [
    "name1 = \"Ali Raza\"\n",
    "profession1 = \"Software Engineer\"\n",
    "country1 = \"Pakistan\"\n",
    "is_employed1 = True\n",
    "\n",
    "name2 = \"Sara Malik\"\n",
    "profession2 = \"Data Analyst\"\n",
    "country2 = \"Dubai\"\n",
    "is_employed2 = False\n",
    "\n",
    "name3 = \"Salma Khan\"\n",
    "profession3 = \"Teacher\"\n",
    "country3 = \"Germany\"\n",
    "is_employed3 = True\n",
    "\n",
    "print(\"            ******     User Profiles:          ******\")\n",
    "print(f\"{'Name':<15} {'Profession':<20} {'Country':<15} {'Employed':<10}\")\n",
    "print(\"-\" * 60)\n",
    "\n",
    "print(f\"{name1:<15} {profession1:<20} {country1:<15} {str(is_employed1):<10}\")\n",
    "print(f\"{name2:<15} {profession2:<20} {country2:<15} {str(is_employed2):<10}\")\n",
    "print(f\"{name3:<15} {profession3:<20} {country3:<15} {str(is_employed3):<10}\")"
   ]
  },
  {
   "cell_type": "markdown",
   "id": "3166d503-7b34-48da-be49-5311ca7c5d80",
   "metadata": {},
   "source": [
    "# Task 3"
   ]
  },
  {
   "cell_type": "code",
   "execution_count": 8,
   "id": "1a5dc136-cf3f-4ebb-a1cd-5661fbae94f0",
   "metadata": {},
   "outputs": [
    {
     "name": "stdout",
     "output_type": "stream",
     "text": [
      "Original Values and Types:\n",
      "String: Hello (<class 'str'>)\n",
      "Integer: 42 (<class 'int'>)\n",
      "Float: 3.14 (<class 'float'>)\n",
      "Boolean: True (<class 'bool'>)\n",
      "Complex: (2+3j) (<class 'complex'>)\n",
      "\n",
      "     *******      Converted Values and Types:           ******\n",
      "\n",
      "String to Int: Conversion to int failed\n",
      "Int to Float: 42.0 (<class 'float'>)\n",
      "Float to String: 3.14 (<class 'str'>)\n",
      "Boolean to Int: 1 (<class 'int'>)\n",
      "Complex to String: (2+3j) (<class 'str'>)\n"
     ]
    }
   ],
   "source": [
    "var_str = \"Hello\"\n",
    "var_int = 42\n",
    "var_float = 3.14\n",
    "var_bool = True\n",
    "var_complex = 2 + 3j\n",
    "\n",
    "print(\"Original Values and Types:\")\n",
    "print(f\"String: {var_str} ({type(var_str)})\")\n",
    "print(f\"Integer: {var_int} ({type(var_int)})\")\n",
    "print(f\"Float: {var_float} ({type(var_float)})\")\n",
    "print(f\"Boolean: {var_bool} ({type(var_bool)})\")\n",
    "print(f\"Complex: {var_complex} ({type(var_complex)})\")\n",
    "\n",
    "print(\"\\n     *******      Converted Values and Types:           ******\\n\")\n",
    "try:\n",
    "    converted_str = int(var_str)\n",
    "except ValueError:\n",
    "    converted_str = \"Conversion to int failed\"\n",
    "print(f\"String to Int: {converted_str}\")\n",
    "\n",
    "converted_int = float(var_int)\n",
    "print(f\"Int to Float: {converted_int} ({type(converted_int)})\")\n",
    "\n",
    "converted_float = str(var_float)\n",
    "print(f\"Float to String: {converted_float} ({type(converted_float)})\")\n",
    "\n",
    "converted_bool = int(var_bool)\n",
    "print(f\"Boolean to Int: {converted_bool} ({type(converted_bool)})\")\n",
    "\n",
    "converted_complex = str(var_complex)\n",
    "print(f\"Complex to String: {converted_complex} ({type(converted_complex)})\")"
   ]
  },
  {
   "cell_type": "markdown",
   "id": "ba697fe5-3fe1-430d-b110-2d094475bdc6",
   "metadata": {},
   "source": [
    "# Task 4"
   ]
  },
  {
   "cell_type": "code",
   "execution_count": 13,
   "id": "45a96e73-a4fe-4298-bc07-fd264f80b9f1",
   "metadata": {},
   "outputs": [
    {
     "name": "stdin",
     "output_type": "stream",
     "text": [
      "\n",
      "Enter any value:  4.5\n"
     ]
    },
    {
     "name": "stdout",
     "output_type": "stream",
     "text": [
      "\n",
      "Python sees this as type: <class 'str'>\n",
      "You entered a float!\n"
     ]
    }
   ],
   "source": [
    "user_input = input(\"\\nEnter any value: \")\n",
    "print(f\"\\nPython sees this as type: {type(user_input)}\")\n",
    "new = type(user_input)\n",
    "\n",
    "if new == \"int\":\n",
    "    print(\"You entered an integer!\")\n",
    "elif new == \"str\":\n",
    "    print(\"You entered an string!\")\n",
    "else:\n",
    "    print(\"You entered a float!\")"
   ]
  },
  {
   "cell_type": "markdown",
   "id": "61cfc6d1-073e-4ebb-bce3-b30a3149d62e",
   "metadata": {},
   "source": [
    "# Task 5"
   ]
  },
  {
   "cell_type": "code",
   "execution_count": 15,
   "id": "553208ca-e417-466a-9735-96826419c9ee",
   "metadata": {},
   "outputs": [
    {
     "name": "stdout",
     "output_type": "stream",
     "text": [
      "Welcome to the Quick Survey!\n",
      "\n"
     ]
    },
    {
     "name": "stdin",
     "output_type": "stream",
     "text": [
      "1. What is your name?  ayesha\n",
      "2. What is your favorite food?  pizza\n",
      "3. What year were you born in?  2005\n",
      "4. What is your favorite number?  24\n",
      "5. What is your favorite programming language?  python\n"
     ]
    },
    {
     "name": "stdout",
     "output_type": "stream",
     "text": [
      "\n",
      "      ******       Survey Summary         *******\n",
      "Hello ayesha, great to have you here!\n",
      "You love eating pizza.\n",
      "You were born in 2005, which makes you quite experienced!\n",
      "Your favorite number is 24 — interesting choice!\n",
      "And your favorite programming language is python. Awesome!\n"
     ]
    }
   ],
   "source": [
    "print(\"Welcome to the Quick Survey!\\n\")\n",
    "name = input(\"1. What is your name? \")\n",
    "favorite_food = input(\"2. What is your favorite food? \")\n",
    "birth_year = input(\"3. What year were you born in? \")\n",
    "favorite_number = input(\"4. What is your favorite number? \")\n",
    "favorite_language = input(\"5. What is your favorite programming language? \")\n",
    "\n",
    "print(\"\\n      ******       Survey Summary         *******\")\n",
    "print(f\"Hello {name}, great to have you here!\")\n",
    "print(f\"You love eating {favorite_food}.\")\n",
    "print(f\"You were born in {birth_year}, which makes you quite experienced!\")\n",
    "print(f\"Your favorite number is {favorite_number} — interesting choice!\")\n",
    "print(f\"And your favorite programming language is {favorite_language}. Awesome!\")"
   ]
  },
  {
   "cell_type": "markdown",
   "id": "d33e4935-6d2f-474e-a0d3-dddc9cdf227e",
   "metadata": {},
   "source": [
    "# Task 6"
   ]
  },
  {
   "cell_type": "code",
   "execution_count": 17,
   "id": "7758ec71-e48b-4bd2-a322-c79f4ac0f805",
   "metadata": {},
   "outputs": [
    {
     "name": "stdin",
     "output_type": "stream",
     "text": [
      "Enter your year of birth:  20\n"
     ]
    },
    {
     "name": "stdout",
     "output_type": "stream",
     "text": [
      "\n",
      "You are 2005 years old.\n",
      "You are eligible to vote.\n"
     ]
    }
   ],
   "source": [
    "current_year = 2025\n",
    "birth_year = int(input(\"Enter your year of birth: \"))\n",
    "age = current_year - birth_year\n",
    "print(f\"\\nYou are {age} years old.\")\n",
    "if age >= 18:\n",
    "    print(\"You are eligible to vote.\")\n",
    "else:\n",
    "    print(\"You are not eligible to vote yet.\")"
   ]
  },
  {
   "cell_type": "markdown",
   "id": "b88485ea-7a85-4b1e-bad5-ce9e9a116db7",
   "metadata": {},
   "source": [
    "# Task 7"
   ]
  },
  {
   "cell_type": "code",
   "execution_count": 19,
   "id": "ca81fe53-a826-4d55-8b02-4c19e09c815e",
   "metadata": {},
   "outputs": [
    {
     "name": "stdout",
     "output_type": "stream",
     "text": [
      "Welcome to the Marks Percentage Calculator!\n",
      "\n"
     ]
    },
    {
     "name": "stdin",
     "output_type": "stream",
     "text": [
      "Enter marks for Subject 1:  45\n",
      "Enter marks for Subject 2:  7\n",
      "Enter marks for Subject 3:  65\n",
      "Enter marks for Subject 4:  98\n",
      "Enter marks for Subject 5:  65\n"
     ]
    },
    {
     "name": "stdout",
     "output_type": "stream",
     "text": [
      "\n",
      "  *********         Result            **********\n",
      "Total Marks: 280/500\n",
      "Percentage: 56.00%\n",
      "Grade: Fail\n"
     ]
    }
   ],
   "source": [
    "print(\"Welcome to the Marks Percentage Calculator!\\n\")\n",
    "m1 = int(input(\"Enter marks for Subject 1: \"))\n",
    "m2 = int(input(\"Enter marks for Subject 2: \"))\n",
    "m3 = int(input(\"Enter marks for Subject 3: \"))\n",
    "m4 = int(input(\"Enter marks for Subject 4: \"))\n",
    "m5 = int(input(\"Enter marks for Subject 5: \"))\n",
    "\n",
    "total_marks = m1 + m2 + m3 + m4 + m5\n",
    "percentage = (total_marks / 500) * 100\n",
    "\n",
    "if percentage >= 90:\n",
    "    grade = \"A\"\n",
    "elif percentage >= 80:\n",
    "    grade = \"B\"\n",
    "elif percentage >= 70:\n",
    "    grade = \"C\"\n",
    "else:\n",
    "    grade = \"Fail\"\n",
    "\n",
    "print(\"\\n  *********         Result            **********\")\n",
    "print(f\"Total Marks: {total_marks}/500\")\n",
    "print(f\"Percentage: {percentage:.2f}%\")\n",
    "print(f\"Grade: {grade}\")"
   ]
  },
  {
   "cell_type": "markdown",
   "id": "fd970e07-7f55-429b-9a28-706ff11936fe",
   "metadata": {},
   "source": [
    "# Task 8"
   ]
  },
  {
   "cell_type": "code",
   "execution_count": 20,
   "id": "392194cd-148c-480d-9877-9dbac743d3f3",
   "metadata": {},
   "outputs": [
    {
     "name": "stdout",
     "output_type": "stream",
     "text": [
      "\n",
      "Welcome to the Temperature Converter!\n",
      "\n"
     ]
    },
    {
     "name": "stdin",
     "output_type": "stream",
     "text": [
      "Enter temperature in Celsius:  44\n"
     ]
    },
    {
     "name": "stdout",
     "output_type": "stream",
     "text": [
      "44.00°C is equal to 111.20°F\n"
     ]
    },
    {
     "name": "stdin",
     "output_type": "stream",
     "text": [
      "\n",
      "Now enter temperature in Fahrenheit:  88\n"
     ]
    },
    {
     "name": "stdout",
     "output_type": "stream",
     "text": [
      "88.00°F is equal to 31.11°C\n"
     ]
    }
   ],
   "source": [
    "print(\"\\nWelcome to the Temperature Converter!\\n\")\n",
    "try:\n",
    "    celsius = float(input(\"Enter temperature in Celsius: \"))\n",
    "    fahrenheit = (celsius * 9/5) + 32\n",
    "    print(f\"{celsius:.2f}°C is equal to {fahrenheit:.2f}°F\")\n",
    "except ValueError:\n",
    "    print(\"Invalid input! Please enter a numeric values\")\n",
    "\n",
    "try:\n",
    "    fahrenheit_input = float(input(\"\\nNow enter temperature in Fahrenheit: \"))\n",
    "    celsius_converted = (fahrenheit_input - 32) * 5/9\n",
    "    print(f\"{fahrenheit_input:.2f}°F is equal to {celsius_converted:.2f}°C\")\n",
    "except ValueError:\n",
    "    print(\"Invalid input! Please enter a numeric values\")"
   ]
  }
 ],
 "metadata": {
  "kernelspec": {
   "display_name": "Python 3 (ipykernel)",
   "language": "python",
   "name": "python3"
  },
  "language_info": {
   "codemirror_mode": {
    "name": "ipython",
    "version": 3
   },
   "file_extension": ".py",
   "mimetype": "text/x-python",
   "name": "python",
   "nbconvert_exporter": "python",
   "pygments_lexer": "ipython3",
   "version": "3.12.4"
  }
 },
 "nbformat": 4,
 "nbformat_minor": 5
}
