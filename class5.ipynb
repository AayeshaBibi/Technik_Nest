{
 "cells": [
  {
   "cell_type": "code",
   "execution_count": 1,
   "id": "6a9135e2-d1a1-40f4-a67f-3ac6e20368a1",
   "metadata": {},
   "outputs": [
    {
     "name": "stdout",
     "output_type": "stream",
     "text": [
      "Reusable Functions - Task 1:\n",
      "Original numbers: [1, 2, 3, 4, 5]\n",
      "Squared numbers: [1, 4, 9, 16, 25]\n",
      "\n"
     ]
    }
   ],
   "source": [
    "# Task 1\n",
    "def square_numbers(numbers):\n",
    "    squared_list = []\n",
    "    for num in numbers:\n",
    "        squared_list.append(num ** 2)\n",
    "    return squared_list\n",
    "\n",
    "print(\"Reusable Functions - Task 1:\")\n",
    "my_numbers = [1, 2, 3, 4, 5]\n",
    "squared_result = square_numbers(my_numbers)\n",
    "print(f\"Original numbers: {my_numbers}\")\n",
    "print(f\"Squared numbers: {squared_result}\\n\")"
   ]
  },
  {
   "cell_type": "code",
   "execution_count": 2,
   "id": "4c1496ce-f542-42fb-ab3a-ca0261df612f",
   "metadata": {},
   "outputs": [
    {
     "name": "stdout",
     "output_type": "stream",
     "text": [
      "Reusable Functions - Task 2:\n",
      "5 is odd\n",
      "10 is even\n",
      "\n"
     ]
    }
   ],
   "source": [
    "# Task 2\n",
    "def is_even_or_odd(number):\n",
    "    if number % 2 == 0:\n",
    "        return \"even\"\n",
    "    else:\n",
    "        return \"odd\"\n",
    "\n",
    "print(\"Reusable Functions - Task 2:\")\n",
    "print(f\"5 is {is_even_or_odd(5)}\")\n",
    "print(f\"10 is {is_even_or_odd(10)}\\n\")"
   ]
  },
  {
   "cell_type": "code",
   "execution_count": 3,
   "id": "f936d251-2715-44f6-8ad5-97498b18a600",
   "metadata": {},
   "outputs": [
    {
     "name": "stdout",
     "output_type": "stream",
     "text": [
      "Parameters & Return - Task 1:\n",
      "The area of a circle with radius 7 is: 153.94\n",
      "\n"
     ]
    }
   ],
   "source": [
    "# Task 3\n",
    "import math\n",
    "def calculate_area(radius):\n",
    "    if radius < 0:\n",
    "        return \"Radius cannot be negative.\"\n",
    "    return math.pi * (radius ** 2)\n",
    "\n",
    "print(\"Parameters & Return - Task 1:\")\n",
    "radius1 = 7\n",
    "area1 = calculate_area(radius1)\n",
    "print(f\"The area of a circle with radius {radius1} is: {area1:.2f}\\n\") # .2f for 2 decimal places"
   ]
  },
  {
   "cell_type": "code",
   "execution_count": 4,
   "id": "4fe99f10-b714-4795-8a92-783031d3d7e4",
   "metadata": {},
   "outputs": [
    {
     "name": "stdout",
     "output_type": "stream",
     "text": [
      "Parameters & Return - Task 2:\n",
      "Hello Ali, you are 20 years old.\n",
      "Hello Fatima, you are 25 years old.\n"
     ]
    }
   ],
   "source": [
    "# Task 4\n",
    "def greet_user(name, age):\n",
    "    return f\"Hello {name}, you are {age} years old.\"\n",
    "\n",
    "print(\"Parameters & Return - Task 2:\")\n",
    "greeting1 = greet_user(\"Ali\", 20)\n",
    "print(greeting1)\n",
    "greeting2 = greet_user(\"Fatima\", 25)\n",
    "print(greeting2)"
   ]
  },
  {
   "cell_type": "code",
   "execution_count": 5,
   "id": "8bc3c93e-03c1-449a-8be1-25901d65fd69",
   "metadata": {},
   "outputs": [
    {
     "name": "stdout",
     "output_type": "stream",
     "text": [
      "Scope & Modules - Task 1:\n",
      "Initial global_counter: 0\n",
      "Inside change_counter(): global_counter is now 1\n",
      "After first call, global_counter: 1\n",
      "Inside change_counter(): global_counter is now 2\n",
      "After second call, global_counter: 2\n",
      "\n"
     ]
    }
   ],
   "source": [
    "# Task 5\n",
    "\n",
    "global_counter = 0\n",
    "def change_counter():\n",
    "    global global_counter # Declare that we intend to modify the global variable\n",
    "    global_counter += 1\n",
    "    print(f\"Inside change_counter(): global_counter is now {global_counter}\")\n",
    "\n",
    "print(\"Scope & Modules - Task 1:\")\n",
    "print(f\"Initial global_counter: {global_counter}\")\n",
    "change_counter()\n",
    "print(f\"After first call, global_counter: {global_counter}\")\n",
    "change_counter()\n",
    "print(f\"After second call, global_counter: {global_counter}\\n\")"
   ]
  },
  {
   "cell_type": "code",
   "execution_count": 6,
   "id": "f9ed2187-64c7-430a-9c46-9759674aab9c",
   "metadata": {},
   "outputs": [
    {
     "name": "stdout",
     "output_type": "stream",
     "text": [
      "This is math_tools.py being run directly.\n",
      "2 * 3 = 6\n",
      "5 + 7 = 12\n"
     ]
    }
   ],
   "source": [
    "def multiply(x, y):\n",
    "    return x * y\n",
    "\n",
    "def add(x, y):\n",
    "    return x + y\n",
    "\n",
    "print(\"This is math_tools.py being run directly.\")\n",
    "print(f\"2 * 3 = {multiply(2, 3)}\")\n",
    "print(f\"5 + 7 = {add(5, 7)}\")"
   ]
  }
 ],
 "metadata": {
  "kernelspec": {
   "display_name": "Python 3 (ipykernel)",
   "language": "python",
   "name": "python3"
  },
  "language_info": {
   "codemirror_mode": {
    "name": "ipython",
    "version": 3
   },
   "file_extension": ".py",
   "mimetype": "text/x-python",
   "name": "python",
   "nbconvert_exporter": "python",
   "pygments_lexer": "ipython3",
   "version": "3.10.18"
  }
 },
 "nbformat": 4,
 "nbformat_minor": 5
}
