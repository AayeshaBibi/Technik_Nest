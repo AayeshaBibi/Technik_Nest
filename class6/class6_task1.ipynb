{
 "cells": [
  {
   "cell_type": "code",
   "execution_count": 1,
   "id": "10232823-a794-45a2-8216-1840177cc297",
   "metadata": {},
   "outputs": [
    {
     "name": "stdout",
     "output_type": "stream",
     "text": [
      "Tasks - Libraries and pip - Task 1:\n",
      "--- Square Roots ---\n",
      "The square root of 4 is: 2.0\n",
      "The square root of 9 is: 3.0\n",
      "The square root of 16 is: 4.0\n",
      "The square root of 25 is: 5.0\n",
      "The square root of 2.25 is: 1.5\n",
      "\n",
      "--- Average ---\n",
      "The numbers are: [10, 20, 30, 40, 50, 15, 25]\n",
      "The average (mean) of the numbers is: 27.142857142857142\n",
      "\n"
     ]
    }
   ],
   "source": [
    "# Tasks 1\n",
    "import math\n",
    "import statistics\n",
    "\n",
    "numbers_for_sqrt = [4, 9, 16, 25, 2.25]\n",
    "print(\"Tasks - Libraries and pip - Task 1:\")\n",
    "print(\"--- Square Roots ---\")\n",
    "for num in numbers_for_sqrt:\n",
    "    sqrt_result = math.sqrt(num)\n",
    "    print(f\"The square root of {num} is: {sqrt_result}\")\n",
    "\n",
    "data_for_average = [10, 20, 30, 40, 50, 15, 25]\n",
    "average_result = statistics.mean(data_for_average)\n",
    "\n",
    "print(\"\\n--- Average ---\")\n",
    "print(f\"The numbers are: {data_for_average}\")\n",
    "print(f\"The average (mean) of the numbers is: {average_result}\\n\")"
   ]
  }
 ],
 "metadata": {
  "kernelspec": {
   "display_name": "Python 3 (ipykernel)",
   "language": "python",
   "name": "python3"
  },
  "language_info": {
   "codemirror_mode": {
    "name": "ipython",
    "version": 3
   },
   "file_extension": ".py",
   "mimetype": "text/x-python",
   "name": "python",
   "nbconvert_exporter": "python",
   "pygments_lexer": "ipython3",
   "version": "3.10.18"
  }
 },
 "nbformat": 4,
 "nbformat_minor": 5
}
