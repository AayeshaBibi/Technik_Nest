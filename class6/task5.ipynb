{
 "cells": [
  {
   "cell_type": "code",
   "execution_count": null,
   "id": "aff9566d-ae85-495b-b31b-0672387c42bf",
   "metadata": {},
   "outputs": [],
   "source": [
    "# Task 5\n",
    "import gradio as gr\n",
    "\n",
    "def calculate_square(number):\n",
    "    try:\n",
    "        num = float(number) # Convert input to a float to handle decimals\n",
    "        return num * num\n",
    "    except ValueError:\n",
    "        return \"Invalid input. Please enter a number.\"\n",
    "\n",
    "square_interface = gr.Interface(\n",
    "    fn=calculate_square,\n",
    "    inputs=gr.Number(label=\"Enter a number\"), # Use gr.Number for numeric input\n",
    "    outputs=\"number\",                         # Output will be a number\n",
    "    title=\"Number Squarer App\",\n",
    "    description=\"Enter a number and get its square.\"\n",
    ")\n",
    "\n",
    "# Launch the Gradio app\n",
    "print(\"Tasks - Gradio - Task 5: Launching 'Number Squarer App'.\")\n",
    "print(\"You can access it in your browser, usually at http://127.0.0.1:7860\")\n",
    "square_interface.launch()"
   ]
  },
  {
   "cell_type": "code",
   "execution_count": null,
   "id": "1f62bb96-3aea-4e55-b499-b47e1f8025cc",
   "metadata": {},
   "outputs": [],
   "source": []
  }
 ],
 "metadata": {
  "kernelspec": {
   "display_name": "Python 3 (ipykernel)",
   "language": "python",
   "name": "python3"
  },
  "language_info": {
   "codemirror_mode": {
    "name": "ipython",
    "version": 3
   },
   "file_extension": ".py",
   "mimetype": "text/x-python",
   "name": "python",
   "nbconvert_exporter": "python",
   "pygments_lexer": "ipython3",
   "version": "3.10.18"
  }
 },
 "nbformat": 4,
 "nbformat_minor": 5
}
