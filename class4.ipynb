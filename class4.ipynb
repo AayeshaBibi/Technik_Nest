{
 "cells": [
  {
   "cell_type": "markdown",
   "id": "fd4d0f38-7f5a-4310-9457-ba7b0ed119f5",
   "metadata": {},
   "source": [
    "# Task 1"
   ]
  },
  {
   "cell_type": "code",
   "execution_count": 1,
   "id": "3ba84d9e-dd17-4dcf-ad54-7b4ebc103bf0",
   "metadata": {},
   "outputs": [
    {
     "name": "stdin",
     "output_type": "stream",
     "text": [
      "enter your name ::   ayesha\n"
     ]
    },
    {
     "name": "stdout",
     "output_type": "stream",
     "text": [
      "<class 'str'>\n"
     ]
    }
   ],
   "source": [
    "name = input(\"enter your name ::  \")\n",
    "print(type(name))"
   ]
  },
  {
   "cell_type": "code",
   "execution_count": 2,
   "id": "47d27476-49d1-4469-a3a7-f6184b3dff4b",
   "metadata": {},
   "outputs": [
    {
     "name": "stdout",
     "output_type": "stream",
     "text": [
      "This message was executed using exec().\n"
     ]
    }
   ],
   "source": [
    "exec_code_task1 = 'print(\"This message was executed using exec().\")'\n",
    "exec(exec_code_task1)"
   ]
  },
  {
   "cell_type": "markdown",
   "id": "f301e09c-7c6e-40dd-a2b3-b0e9bb260693",
   "metadata": {},
   "source": [
    "# Task 2"
   ]
  },
  {
   "cell_type": "code",
   "execution_count": 5,
   "id": "78b78701-43d6-4092-a542-7d8a41eb96ff",
   "metadata": {},
   "outputs": [
    {
     "name": "stdin",
     "output_type": "stream",
     "text": [
      "enter expression to execute ::   5*5\n"
     ]
    },
    {
     "name": "stdout",
     "output_type": "stream",
     "text": [
      "running expression using exec()  None\n"
     ]
    }
   ],
   "source": [
    "expression = input(\"enter expression to execute ::  \")\n",
    "print(\"running expression using exec() \", exec(expression))"
   ]
  },
  {
   "cell_type": "markdown",
   "id": "977430e6-b8fa-4bbf-94ec-1d64a646b2a4",
   "metadata": {},
   "source": [
    "# Task 3"
   ]
  },
  {
   "cell_type": "code",
   "execution_count": 12,
   "id": "4d555737-a6b4-4dad-848a-f85afa7bf649",
   "metadata": {},
   "outputs": [
    {
     "name": "stdin",
     "output_type": "stream",
     "text": [
      "enter the radius ::   2\n"
     ]
    },
    {
     "name": "stdout",
     "output_type": "stream",
     "text": [
      "area ::  12.566370614359172 circumference ::  12.566370614359172 square_root_of_area ::  3.5449077018110318\n"
     ]
    }
   ],
   "source": [
    "import math\n",
    "radius = float(input(\"enter the radius ::  \"))\n",
    "area = math.pi * (radius ** 2)\n",
    "circumference = 2 * math.pi * radius\n",
    "square_root_of_area = math.sqrt(area)\n",
    "print(\"area :: \", area, \"circumference :: \", circumference, \"square_root_of_area :: \", square_root_of_area)"
   ]
  },
  {
   "cell_type": "markdown",
   "id": "87b79cc4-993d-4f1b-8c2b-523e013a0c28",
   "metadata": {},
   "source": [
    "# Task 4"
   ]
  },
  {
   "cell_type": "code",
   "execution_count": 17,
   "id": "f1570ae2-852b-448e-b0c8-fc094c2828d9",
   "metadata": {},
   "outputs": [
    {
     "name": "stdout",
     "output_type": "stream",
     "text": [
      "Generated 8-character password: Rw!HWOsd\n"
     ]
    }
   ],
   "source": [
    "import random\n",
    "import string\n",
    "letters = string.ascii_letters  \n",
    "numbers = string.digits       \n",
    "symbols = string.punctuation \n",
    "\n",
    "all_characters = letters + numbers + symbols\n",
    "password = ''.join(random.choice(all_characters) for i in range(8))\n",
    "\n",
    "print(f\"Generated 8-character password: {password}\")"
   ]
  },
  {
   "cell_type": "markdown",
   "id": "ade2532e-15e0-46dd-8c9b-78ad5a3f3b83",
   "metadata": {},
   "source": [
    "# Task 5"
   ]
  },
  {
   "cell_type": "code",
   "execution_count": 18,
   "id": "790f5349-72b7-4ea9-80c4-029b46056870",
   "metadata": {},
   "outputs": [
    {
     "name": "stdout",
     "output_type": "stream",
     "text": [
      "--- Task 5: Age and Days Lived Calculation ---\n"
     ]
    },
    {
     "name": "stdin",
     "output_type": "stream",
     "text": [
      "Enter your birth date (YYYY-MM-DD):  2005-12-16\n"
     ]
    },
    {
     "name": "stdout",
     "output_type": "stream",
     "text": [
      "\n",
      "Based on your birth date 2005-12-16:\n",
      "  You are 19 years old.\n",
      "  You have lived approximately 7154 days.\n"
     ]
    }
   ],
   "source": [
    "import datetime\n",
    "import os\n",
    "import re\n",
    "print(\"--- Task 5: Age and Days Lived Calculation ---\")\n",
    "birth_date_str = input(\"Enter your birth date (YYYY-MM-DD): \")\n",
    "\n",
    "birth_date = datetime.datetime.strptime(birth_date_str, \"%Y-%m-%d\").date()\n",
    "today = datetime.date.today()\n",
    "age_years = today.year - birth_date.year - ((today.month, today.day) < (birth_date.month, birth_date.day))\n",
    "\n",
    "days_lived = (today - birth_date).days\n",
    "\n",
    "print(f\"\\nBased on your birth date {birth_date_str}:\")\n",
    "print(f\"  You are {age_years} years old.\")\n",
    "print(f\"  You have lived approximately {days_lived} days.\")"
   ]
  },
  {
   "cell_type": "markdown",
   "id": "3d81dfcb-5ea0-450e-af72-7cea2ff60ec2",
   "metadata": {},
   "source": [
    "# Task 6"
   ]
  },
  {
   "cell_type": "code",
   "execution_count": 27,
   "id": "89826655-77f7-45a6-94fc-c7efb7b847d4",
   "metadata": {},
   "outputs": [
    {
     "name": "stdout",
     "output_type": "stream",
     "text": [
      "Searching for .txt files matching pattern '^Class1_report.*\\.txt$' in 'D:\\Technik_Nest'...\n",
      "\n",
      "No .txt files matching the pattern were found in the specified folder.\n"
     ]
    },
    {
     "name": "stderr",
     "output_type": "stream",
     "text": [
      "<>:1: SyntaxWarning: invalid escape sequence '\\T'\n",
      "<>:1: SyntaxWarning: invalid escape sequence '\\T'\n",
      "C:\\Users\\M\\AppData\\Local\\Temp\\ipykernel_7852\\2354783023.py:1: SyntaxWarning: invalid escape sequence '\\T'\n",
      "  folder_path = \"D:\\Technik_Nest\"\n"
     ]
    }
   ],
   "source": [
    "folder_path = \"D:\\Technik_Nest\" \n",
    "\n",
    "pattern = re.compile(r\"^Class1_report.*\\.txt$\", re.IGNORECASE)\n",
    "\n",
    "print(f\"Searching for .txt files matching pattern '{pattern.pattern}' in '{os.path.abspath(folder_path)}'...\")\n",
    "all_entries = os.listdir(folder_path)\n",
    "\n",
    "matching_txt_files = []\n",
    "for entry in all_entries:\n",
    "    if os.path.isfile(os.path.join(folder_path, entry)) and entry.endswith(\".txt\"):\n",
    "        if pattern.match(entry):\n",
    "            matching_txt_files.append(entry)\n",
    "\n",
    "if matching_txt_files:\n",
    "    print(\"\\nFound matching .txt files:\")\n",
    "    for file_name in matching_txt_files:\n",
    "        print(f\"- {file_name}\")\n",
    "else:\n",
    "    print(\"\\nNo .txt files matching the pattern were found in the specified folder.\")"
   ]
  }
 ],
 "metadata": {
  "kernelspec": {
   "display_name": "Python 3 (ipykernel)",
   "language": "python",
   "name": "python3"
  },
  "language_info": {
   "codemirror_mode": {
    "name": "ipython",
    "version": 3
   },
   "file_extension": ".py",
   "mimetype": "text/x-python",
   "name": "python",
   "nbconvert_exporter": "python",
   "pygments_lexer": "ipython3",
   "version": "3.12.4"
  }
 },
 "nbformat": 4,
 "nbformat_minor": 5
}
